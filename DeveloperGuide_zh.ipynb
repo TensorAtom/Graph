{
 "cells": [
  {
   "cell_type": "markdown",
   "metadata": {},
   "source": [
    "# 开发者指南\n",
    "\n",
    "本项目的目标是尽量少用三方包，更多的使用 Python 内置的模块和包，设计一个通用的图形库。下面将详细介绍已经设计好的模块和包。\n",
    "\n",
    "## 项目概览\n",
    "\n",
    "本项目以 `graph_tensor` 作为包名称，可直接使用 `pip` 进行安装。当前 `graph_tensor` 包含如下结构：\n",
    "\n",
    "- graph\n",
    "    - atom.py\n",
    "        - Meta\n",
    "        - Drawing\n",
    "        - TrajectoryDrawing\n",
    "        - Graph\n",
    "        - GraphScrollable\n",
    "    - creator.py\n",
    "        - Selector\n",
    "        - SelectorFrame\n",
    "    - window.py\n",
    "        - WindowMeta\n",
    "        - Window\n",
    "    - param.py\n",
    "        - Param\n",
    "    - test.py：记录一些测试案例。\n",
    "- tool\n",
    "    - tool_tip.py\n",
    "        - ToolTip：提示窗口类\n",
    "\n",
    "下面逐一介绍这些类。\n",
    "\n",
    "## 1 Meta 是 graph 包的基础类\n",
    "\n",
    "先进入到包内部："
   ]
  },
  {
   "cell_type": "code",
   "execution_count": 1,
   "metadata": {},
   "outputs": [
    {
     "name": "stdout",
     "output_type": "stream",
     "text": [
      "D:\\study\\Graph\\graph_tensor\n"
     ]
    }
   ],
   "source": [
    "cd graph_tensor"
   ]
  },
  {
   "cell_type": "markdown",
   "metadata": {},
   "source": [
    "载入 Meta 类及其测试函数："
   ]
  },
  {
   "cell_type": "code",
   "execution_count": 2,
   "metadata": {},
   "outputs": [],
   "source": [
    "from graph.atom import Meta\n",
    "from graph.test import test_Meta"
   ]
  },
  {
   "cell_type": "markdown",
   "metadata": {},
   "source": [
    "调用 `test_Meta()` 函数便可以展现 `Meta` 的实现效果。其实，`Meta` 是继承自 `tkinter` 的 `Canvas` 类的，它主要的改进之处在于：将画图的函数定制了一个统一的接口函数："
   ]
  },
  {
   "cell_type": "code",
   "execution_count": 3,
   "metadata": {
    "scrolled": false
   },
   "outputs": [
    {
     "name": "stdout",
     "output_type": "stream",
     "text": [
      "Help on function draw_graph in module graph.atom:\n",
      "\n",
      "draw_graph(self, graph_type, direction, color='blue', width=1, tags=None, **kwargs)\n",
      "    Draw basic graphic elements.\n",
      "    \n",
      "    :param direction: Specifies the orientation of the graphic element. \n",
      "        Union[int, float] -> (x_0,y_0,x_,y_1), (x_0, y_0) refers to the starting point of \n",
      "        the reference brush (i.e., the left mouse button is pressed), and (x_1, y_1) refers to \n",
      "        the end position of the reference brush (i.e., release the left mouse button).\n",
      "        Multipoint sequences are supported for 'line' and 'polygon',\n",
      "         for example ((x_0, y_0), (x_1, y_1), (x_2, y_2)).\n",
      "    :param graph_type: Types of graphic elements.\n",
      "        (str) 'rectangle', 'oval', 'line', 'arc'(That is, segment), 'polygon'.\n",
      "        Note that 'line' can no longer pass in the parameter 'fill', and \n",
      "        the remaining graph_type cannot pass in the parameter 'outline'.\n",
      "    :param color: The color of the graphic element.\n",
      "    :param width: The width of the graphic element.(That is, center fill)\n",
      "    :param tags: The tags of the graphic element. \n",
      "        It cannot be a pure number (such as 1 or '1' or '1 2 3'), it can be a list, a tuple, \n",
      "        or a string separated by a space(is converted to String tupers separated by a blank space). \n",
      "        The collection or dictionary is converted to a string.\n",
      "        Example:\n",
      "            ['line', 'graph'], ('test', 'g'), 'line',\n",
      "            ' line kind '(The blanks at both ends are automatically removed), and so on.\n",
      "    :param style: Style of the arc in {'arc', 'chord', or 'pieslice'}.\n",
      "    \n",
      "    :return: Unique identifier solely for graphic elements.\n",
      "\n"
     ]
    }
   ],
   "source": [
    "help(Meta.draw_graph)"
   ]
  },
  {
   "cell_type": "markdown",
   "metadata": {},
   "source": [
    "注意：`color`、`width` 分别表示的是图形的轮廓的颜色和宽度。下面将介绍画图工具的相关库。\n",
    "\n",
    "## 2 Selector 与 SelectorFrame 用于选择图形的颜色和形状"
   ]
  },
  {
   "cell_type": "code",
   "execution_count": 7,
   "metadata": {},
   "outputs": [],
   "source": [
    "from graph.creator import Selector, SelectorFrame\n",
    "from tkinter import Tk"
   ]
  },
  {
   "cell_type": "markdown",
   "metadata": {},
   "source": [
    "`Selector` （是 `Meta` 的子类）主要设计了画图工具的可供选择的画笔的颜色与绘制的图形的形状。可以使用如下方法进行参考："
   ]
  },
  {
   "cell_type": "code",
   "execution_count": 13,
   "metadata": {},
   "outputs": [],
   "source": [
    "root = Tk()\n",
    "select = Selector(root)\n",
    "select.grid()\n",
    "root.mainloop()"
   ]
  },
  {
   "cell_type": "markdown",
   "metadata": {},
   "source": [
    "`SelectorFrame` 是 `ttk.Frame` 的子类，为 `Selector` 提供了鼠标事件：显示用户选择的画笔的颜色与绘制的图形的形状。使用方法参考："
   ]
  },
  {
   "cell_type": "code",
   "execution_count": 14,
   "metadata": {},
   "outputs": [],
   "source": [
    "root = Tk()\n",
    "select = SelectorFrame(root)\n",
    "select.grid()\n",
    "select.layout() # 用于布局 SelectorFrame 的内部小部件\n",
    "root.mainloop()"
   ]
  },
  {
   "cell_type": "markdown",
   "metadata": {},
   "source": [
    "Selector 与 SelectorFrame 是面向开发者的，不需要用户调用。"
   ]
  },
  {
   "cell_type": "markdown",
   "metadata": {},
   "source": [
    "## 3 Drawing 提供了一个使用鼠标画图的工具"
   ]
  },
  {
   "cell_type": "code",
   "execution_count": 17,
   "metadata": {},
   "outputs": [],
   "source": [
    "from graph.atom import Drawing\n",
    "from graph.test import test_Drawing"
   ]
  },
  {
   "cell_type": "code",
   "execution_count": 19,
   "metadata": {},
   "outputs": [],
   "source": [
    "test_Drawing()"
   ]
  },
  {
   "cell_type": "code",
   "execution_count": null,
   "metadata": {},
   "outputs": [],
   "source": []
  }
 ],
 "metadata": {
  "kernelspec": {
   "display_name": "Python 3",
   "language": "python",
   "name": "python3"
  },
  "language_info": {
   "codemirror_mode": {
    "name": "ipython",
    "version": 3
   },
   "file_extension": ".py",
   "mimetype": "text/x-python",
   "name": "python",
   "nbconvert_exporter": "python",
   "pygments_lexer": "ipython3",
   "version": "3.7.4"
  }
 },
 "nbformat": 4,
 "nbformat_minor": 2
}
