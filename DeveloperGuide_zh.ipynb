{
 "cells": [
  {
   "cell_type": "markdown",
   "metadata": {},
   "source": [
    "# 开发者指南\n",
    "\n",
    "本项目的目标是尽量少用三方包，更多的使用 Python 内置的模块和包，设计一个通用的图形库。下面将详细介绍已经设计好的模块和包。\n",
    "\n",
    "## 项目概览\n",
    "\n",
    "本项目以 `graph_tensor` 作为包名称，可直接使用 `pip` 进行安装。当前 `graph_tensor` 包含如下结构：\n",
    "\n",
    "- graph\n",
    "    - atom.py\n",
    "        - Meta\n",
    "        - Drawing\n",
    "        - TrajectoryDrawing\n",
    "        - Graph\n",
    "        - GraphScrollable\n",
    "    - creator.py\n",
    "        - Selector\n",
    "        - SelectorFrame\n",
    "    - window.py\n",
    "        - WindowMeta\n",
    "        - Window\n",
    "    - param.py\n",
    "        - Param\n",
    "    - test.py：记录一些测试案例。\n",
    "- tool\n",
    "    - tool_tip.py\n",
    "        - ToolTip：提示窗口类\n",
    "\n",
    "下面逐一介绍这些类。\n",
    "\n",
    "## 1 Meta 是 graph 包的基础类\n",
    "\n",
    "先进入到包内部："
   ]
  },
  {
   "cell_type": "code",
   "execution_count": 1,
   "metadata": {},
   "outputs": [
    {
     "name": "stdout",
     "output_type": "stream",
     "text": [
      "D:\\xinet\\Graph\\graph_tensor\n"
     ]
    }
   ],
   "source": [
    "cd graph_tensor"
   ]
  },
  {
   "cell_type": "markdown",
   "metadata": {},
   "source": [
    "载入 Meta 类及其测试函数："
   ]
  },
  {
   "cell_type": "code",
   "execution_count": 2,
   "metadata": {},
   "outputs": [],
   "source": [
    "from graph.atom import Meta\n",
    "from graph.test import test_Meta"
   ]
  },
  {
   "cell_type": "markdown",
   "metadata": {},
   "source": [
    "调用 `test_Meta()` 函数便可以展现 `Meta` 的实现效果。其实，`Meta` 是继承自 `tkinter` 的 `Canvas` 类的，它主要的改进之处在于：将画图的函数定制了一个统一的接口函数："
   ]
  },
  {
   "cell_type": "code",
   "execution_count": 3,
   "metadata": {
    "scrolled": false
   },
   "outputs": [
    {
     "name": "stdout",
     "output_type": "stream",
     "text": [
      "Help on function draw_graph in module graph.atom:\n",
      "\n",
      "draw_graph(self, graph_type, direction, color='blue', width=1, tags=None, **kwargs)\n",
      "    Draw basic graphic elements.\n",
      "    \n",
      "    :param direction: Specifies the orientation of the graphic element. \n",
      "        Union[int, float] -> (x_0,y_0,x_,y_1), (x_0, y_0) refers to the starting point of \n",
      "        the reference brush (i.e., the left mouse button is pressed), and (x_1, y_1) refers to \n",
      "        the end position of the reference brush (i.e., release the left mouse button).\n",
      "        Multipoint sequences are supported for 'line' and 'polygon',\n",
      "         for example ((x_0, y_0), (x_1, y_1), (x_2, y_2)).\n",
      "    :param graph_type: Types of graphic elements.\n",
      "        (str) 'rectangle', 'oval', 'line', 'arc'(That is, segment), 'polygon'.\n",
      "        Note that 'line' can no longer pass in the parameter 'fill', and \n",
      "        the remaining graph_type cannot pass in the parameter 'outline'.\n",
      "    :param color: The color of the graphic element.\n",
      "    :param width: The width of the graphic element.(That is, center fill)\n",
      "    :param tags: The tags of the graphic element. \n",
      "        It cannot be a pure number (such as 1 or '1' or '1 2 3'), it can be a list, a tuple, \n",
      "        or a string separated by a space(is converted to String tupers separated by a blank space). \n",
      "        The collection or dictionary is converted to a string.\n",
      "        Example:\n",
      "            ['line', 'graph'], ('test', 'g'), 'line',\n",
      "            ' line kind '(The blanks at both ends are automatically removed), and so on.\n",
      "    :param style: Style of the arc in {'arc', 'chord', or 'pieslice'}.\n",
      "    \n",
      "    :return: Unique identifier solely for graphic elements.\n",
      "\n"
     ]
    }
   ],
   "source": [
    "help(Meta.draw_graph)"
   ]
  },
  {
   "cell_type": "markdown",
   "metadata": {},
   "source": [
    "注意：`color`、`width` 分别表示的是图形的轮廓的颜色和宽度。下面将介绍画图工具的相关库。\n",
    "\n",
    "## 2 Selector 与 SelectorFrame 用于选择图形的颜色和形状"
   ]
  },
  {
   "cell_type": "code",
   "execution_count": 4,
   "metadata": {},
   "outputs": [],
   "source": [
    "from graph.creator import Selector, SelectorFrame\n",
    "from tkinter import Tk"
   ]
  },
  {
   "cell_type": "markdown",
   "metadata": {},
   "source": [
    "`Selector` （是 `Meta` 的子类）主要设计了画图工具的可供选择的画笔的颜色与绘制的图形的形状。可以使用如下方法进行参考："
   ]
  },
  {
   "cell_type": "code",
   "execution_count": 5,
   "metadata": {},
   "outputs": [],
   "source": [
    "root = Tk()\n",
    "select = Selector(root)\n",
    "select.grid()\n",
    "root.mainloop()"
   ]
  },
  {
   "cell_type": "markdown",
   "metadata": {},
   "source": [
    "`SelectorFrame` 是 `ttk.Frame` 的子类，为 `Selector` 提供了鼠标事件：显示用户选择的画笔的颜色与绘制的图形的形状。使用方法参考："
   ]
  },
  {
   "cell_type": "code",
   "execution_count": 6,
   "metadata": {},
   "outputs": [],
   "source": [
    "root = Tk()\n",
    "select = SelectorFrame(root)\n",
    "select.grid()\n",
    "select.layout() # 用于布局 SelectorFrame 的内部小部件\n",
    "root.mainloop()"
   ]
  },
  {
   "cell_type": "markdown",
   "metadata": {},
   "source": [
    "Selector 与 SelectorFrame 是面向开发者的，不需要用户调用。"
   ]
  },
  {
   "cell_type": "markdown",
   "metadata": {},
   "source": [
    "## 3 Drawing 提供了一个使用鼠标画图的工具\n",
    "\n",
    "`Drawing` 是 `Meta` 的子类，提供了一个使用鼠标画图的接口。点击鼠标左键开始作画，释放鼠标左键完成作画。同样，使用 `test_Drawing()` 可以简单的测试 Drawing 的使用。"
   ]
  },
  {
   "cell_type": "code",
   "execution_count": 7,
   "metadata": {},
   "outputs": [],
   "source": [
    "from graph.atom import Drawing, TrajectoryDrawing\n",
    "from graph.test import test_Drawing"
   ]
  },
  {
   "cell_type": "markdown",
   "metadata": {},
   "source": [
    "`TrajectoryDrawing` 是 `Drawing` 的子类。点击鼠标左键开始作画，移动鼠标左键 `after_time` 后完成作画。"
   ]
  },
  {
   "cell_type": "code",
   "execution_count": 8,
   "metadata": {},
   "outputs": [],
   "source": [
    "from graph.creator import SelectorFrame\n",
    "from tkinter import Tk\n",
    "root = Tk()\n",
    "selector = SelectorFrame(root)\n",
    "\n",
    "meta = TrajectoryDrawing(root, selector, after_time=370, background='lightgray')\n",
    "# Makes the master widget change as the canvas size\n",
    "root.columnconfigure(0, weight=1)\n",
    "root.rowconfigure(0, weight=1)\n",
    "meta.layout()\n",
    "selector.layout()\n",
    "selector.grid(row=0, column=1, sticky='nwes')\n",
    "\n",
    "root.mainloop()"
   ]
  },
  {
   "cell_type": "markdown",
   "metadata": {},
   "source": [
    "## 4 Graph 是可操作图形对象的画图工具\n",
    "\n",
    "Graph 是 Drawing 的子类。添加了对图形对象的移动、删除操作。"
   ]
  },
  {
   "cell_type": "code",
   "execution_count": 9,
   "metadata": {},
   "outputs": [],
   "source": [
    "from graph.atom import Graph"
   ]
  },
  {
   "cell_type": "code",
   "execution_count": 10,
   "metadata": {},
   "outputs": [],
   "source": [
    "def test_GraphWindow1():\n",
    "    from graph.creator import SelectorFrame\n",
    "    from graph.tk_utils import Window\n",
    "    # 设定了图像标注工具的工具栏窗口\n",
    "    root = Window()\n",
    "    root.geometry('800x600')\n",
    "    selector = SelectorFrame(root)\n",
    "    graph = Graph(root, selector, background='lightgray')\n",
    "    root.update_edit_menu(graph)\n",
    "    root.update_file_menu(graph)\n",
    "    # Makes the master widget change as the canvas size\n",
    "    graph.layout()\n",
    "    selector.layout()\n",
    "    selector.pack(side='right', fill='y')\n",
    "    root.mainloop()"
   ]
  },
  {
   "cell_type": "code",
   "execution_count": 11,
   "metadata": {},
   "outputs": [],
   "source": [
    "test_GraphWindow1()"
   ]
  },
  {
   "cell_type": "markdown",
   "metadata": {},
   "source": [
    "在菜单栏的 File 选项中的 `Seek filename` 可以载入图片。在菜单栏的 Edit 选项中的 move、delete、drawing 可以移动、删除、画出图形。\n",
    "\n",
    "`GraphScrollable` 是 `Graph` 的子类，增加了图片的滚动条，且设定图片不可移动。"
   ]
  },
  {
   "cell_type": "code",
   "execution_count": 12,
   "metadata": {},
   "outputs": [
    {
     "name": "stderr",
     "output_type": "stream",
     "text": [
      "Exception in Tkinter callback\n",
      "Traceback (most recent call last):\n",
      "  File \"C:\\ProgramData\\Anaconda3\\lib\\site-packages\\PIL\\Image.py\", line 2770, in open\n",
      "    fp.seek(0)\n",
      "AttributeError: 'str' object has no attribute 'seek'\n",
      "\n",
      "During handling of the above exception, another exception occurred:\n",
      "\n",
      "Traceback (most recent call last):\n",
      "  File \"C:\\ProgramData\\Anaconda3\\lib\\tkinter\\__init__.py\", line 1705, in __call__\n",
      "    return self.func(*args)\n",
      "  File \"D:\\xinet\\Graph\\graph_tensor\\graph\\tk_utils.py\", line 86, in <lambda>\n",
      "    label=\"Seek filename\", command=lambda : self.load_image(graph))\n",
      "  File \"D:\\xinet\\Graph\\graph_tensor\\graph\\tk_utils.py\", line 81, in load_image\n",
      "    self.update_image()\n",
      "  File \"D:\\xinet\\Graph\\graph_tensor\\graph\\tk_utils.py\", line 74, in update_image\n",
      "    self.I = self.name2image(self.file_name)\n",
      "  File \"D:\\xinet\\Graph\\graph_tensor\\graph\\tk_utils.py\", line 48, in name2image\n",
      "    I = Image.open(image_name)\n",
      "  File \"C:\\ProgramData\\Anaconda3\\lib\\site-packages\\PIL\\Image.py\", line 2772, in open\n",
      "    fp = io.BytesIO(fp.read())\n",
      "AttributeError: 'str' object has no attribute 'read'\n"
     ]
    }
   ],
   "source": [
    "from graph.test import test_GraphWindow\n",
    "\n",
    "test_GraphWindow()"
   ]
  },
  {
   "cell_type": "code",
   "execution_count": null,
   "metadata": {},
   "outputs": [],
   "source": []
  }
 ],
 "metadata": {
  "kernelspec": {
   "display_name": "Python 3",
   "language": "python",
   "name": "python3"
  },
  "language_info": {
   "codemirror_mode": {
    "name": "ipython",
    "version": 3
   },
   "file_extension": ".py",
   "mimetype": "text/x-python",
   "name": "python",
   "nbconvert_exporter": "python",
   "pygments_lexer": "ipython3",
   "version": "3.7.4"
  }
 },
 "nbformat": 4,
 "nbformat_minor": 2
}
